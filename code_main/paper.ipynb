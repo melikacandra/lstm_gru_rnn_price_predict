{
 "cells": [
  {
   "cell_type": "markdown",
   "metadata": {},
   "source": [
    "# Paper"
   ]
  },
  {
   "cell_type": "markdown",
   "metadata": {},
   "source": [
    "Data used is stock price from 2020 - July 2024. "
   ]
  },
  {
   "cell_type": "markdown",
   "metadata": {},
   "source": [
    "## Long Term\n",
    "Data used is:\n",
    "- Train : 2020 - 2022 (3 year)\n",
    "- Test : 2023 - July 2024 (1.5 year )"
   ]
  },
  {
   "cell_type": "markdown",
   "metadata": {},
   "source": [
    "## Medium Term\n",
    "Data used is:\n",
    "- Train : 2023 (1 year)\n",
    "- Test : January - July 2024 (7 month)"
   ]
  },
  {
   "cell_type": "markdown",
   "metadata": {},
   "source": [
    "## Short Term\n",
    "Data used is:\n",
    "- Train : January - September 2023\n",
    "- Test : Oktober - Desember 2023"
   ]
  },
  {
   "cell_type": "markdown",
   "metadata": {},
   "source": []
  }
 ],
 "metadata": {
  "language_info": {
   "name": "python"
  }
 },
 "nbformat": 4,
 "nbformat_minor": 2
}
