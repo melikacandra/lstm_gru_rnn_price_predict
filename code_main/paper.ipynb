{
 "cells": [
  {
   "cell_type": "markdown",
   "metadata": {},
   "source": [
    "# Paper"
   ]
  },
  {
   "cell_type": "markdown",
   "metadata": {},
   "source": [
    "Data used is stock price from 2020 - July 2024. "
   ]
  },
  {
   "cell_type": "code",
   "execution_count": 1,
   "metadata": {},
   "outputs": [
    {
     "name": "stdout",
     "output_type": "stream",
     "text": [
      "WARNING:tensorflow:From c:\\Users\\ThinkPad\\AppData\\Local\\Programs\\Python\\Python311\\Lib\\site-packages\\keras\\src\\losses.py:2976: The name tf.losses.sparse_softmax_cross_entropy is deprecated. Please use tf.compat.v1.losses.sparse_softmax_cross_entropy instead.\n",
      "\n"
     ]
    }
   ],
   "source": [
    "import pandas as pd\n",
    "import os\n",
    "from PIL import Image\n",
    "import matplotlib.pyplot as plt\n",
    "import pandas as pd\n",
    "import os\n",
    "import numpy as np\n",
    "import matplotlib.pyplot as plt\n",
    "import seaborn as sns\n",
    "sns.set_style('whitegrid')\n",
    "plt.style.use(\"fivethirtyeight\")\n",
    "%matplotlib inline\n",
    "from sklearn.preprocessing import MinMaxScaler\n",
    "from keras.models import Sequential\n",
    "from keras.layers import Dense, LSTM, Dropout, GRU, Bidirectional\n",
    "from keras.optimizers import SGD\n",
    "import math\n",
    "from sklearn.metrics import mean_squared_error\n",
    "sc = MinMaxScaler(feature_range=(0,1)) #normalisasi dari 0 - \n",
    "# importing libraries\n",
    "from keras.models import Sequential\n",
    "from keras.layers import Dense\n",
    "from keras.layers import SimpleRNN\n",
    "from keras.layers import Dropout"
   ]
  },
  {
   "cell_type": "markdown",
   "metadata": {},
   "source": [
    "## Long Term\n",
    "Data used is:\n",
    "- Train : 2020 - 2022 (3 year)\n",
    "- Test : 2023 - July 2024 (1 year 7 month )"
   ]
  },
  {
   "cell_type": "code",
   "execution_count": 11,
   "metadata": {},
   "outputs": [
    {
     "data": {
      "text/html": [
       "<div>\n",
       "<style scoped>\n",
       "    .dataframe tbody tr th:only-of-type {\n",
       "        vertical-align: middle;\n",
       "    }\n",
       "\n",
       "    .dataframe tbody tr th {\n",
       "        vertical-align: top;\n",
       "    }\n",
       "\n",
       "    .dataframe thead th {\n",
       "        text-align: right;\n",
       "    }\n",
       "</style>\n",
       "<table border=\"1\" class=\"dataframe\">\n",
       "  <thead>\n",
       "    <tr style=\"text-align: right;\">\n",
       "      <th></th>\n",
       "      <th>stock</th>\n",
       "      <th>term</th>\n",
       "      <th>algorithm</th>\n",
       "      <th>rmse</th>\n",
       "      <th>rmse_norm</th>\n",
       "      <th>epoch</th>\n",
       "      <th>unit</th>\n",
       "      <th>optimizer</th>\n",
       "      <th>batch_size</th>\n",
       "    </tr>\n",
       "  </thead>\n",
       "  <tbody>\n",
       "    <tr>\n",
       "      <th>0</th>\n",
       "      <td>ASII</td>\n",
       "      <td>long</td>\n",
       "      <td>LSTM</td>\n",
       "      <td>183.016672</td>\n",
       "      <td>0.072196</td>\n",
       "      <td>50</td>\n",
       "      <td>50</td>\n",
       "      <td>rmsprop</td>\n",
       "      <td>32</td>\n",
       "    </tr>\n",
       "    <tr>\n",
       "      <th>1</th>\n",
       "      <td>ASII</td>\n",
       "      <td>long</td>\n",
       "      <td>GRU</td>\n",
       "      <td>172.779083</td>\n",
       "      <td>0.068157</td>\n",
       "      <td>50</td>\n",
       "      <td>50</td>\n",
       "      <td>rmsprop</td>\n",
       "      <td>32</td>\n",
       "    </tr>\n",
       "    <tr>\n",
       "      <th>2</th>\n",
       "      <td>ASII</td>\n",
       "      <td>long</td>\n",
       "      <td>RNN</td>\n",
       "      <td>114.783293</td>\n",
       "      <td>0.045279</td>\n",
       "      <td>50</td>\n",
       "      <td>50</td>\n",
       "      <td>rmsprop</td>\n",
       "      <td>32</td>\n",
       "    </tr>\n",
       "    <tr>\n",
       "      <th>3</th>\n",
       "      <td>AMRT</td>\n",
       "      <td>long</td>\n",
       "      <td>LSTM</td>\n",
       "      <td>85.819877</td>\n",
       "      <td>0.161924</td>\n",
       "      <td>50</td>\n",
       "      <td>50</td>\n",
       "      <td>rmsprop</td>\n",
       "      <td>32</td>\n",
       "    </tr>\n",
       "    <tr>\n",
       "      <th>4</th>\n",
       "      <td>AMRT</td>\n",
       "      <td>long</td>\n",
       "      <td>GRU</td>\n",
       "      <td>378.519532</td>\n",
       "      <td>0.424805</td>\n",
       "      <td>50</td>\n",
       "      <td>50</td>\n",
       "      <td>rmsprop</td>\n",
       "      <td>32</td>\n",
       "    </tr>\n",
       "  </tbody>\n",
       "</table>\n",
       "</div>"
      ],
      "text/plain": [
       "  stock  term algorithm        rmse  rmse_norm  epoch  unit optimizer  \\\n",
       "0  ASII  long      LSTM  183.016672   0.072196     50    50   rmsprop   \n",
       "1  ASII  long       GRU  172.779083   0.068157     50    50   rmsprop   \n",
       "2  ASII  long       RNN  114.783293   0.045279     50    50   rmsprop   \n",
       "3  AMRT  long      LSTM   85.819877   0.161924     50    50   rmsprop   \n",
       "4  AMRT  long       GRU  378.519532   0.424805     50    50   rmsprop   \n",
       "\n",
       "   batch_size  \n",
       "0          32  \n",
       "1          32  \n",
       "2          32  \n",
       "3          32  \n",
       "4          32  "
      ]
     },
     "execution_count": 11,
     "metadata": {},
     "output_type": "execute_result"
    }
   ],
   "source": [
    "model_long = pd.read_csv(\"../result_paper_tuning/result_long_tuning.csv\")\n",
    "model_long.head()"
   ]
  },
  {
   "cell_type": "markdown",
   "metadata": {},
   "source": [
    "### ASII"
   ]
  },
  {
   "cell_type": "code",
   "execution_count": 15,
   "metadata": {},
   "outputs": [
    {
     "data": {
      "text/html": [
       "<div>\n",
       "<style scoped>\n",
       "    .dataframe tbody tr th:only-of-type {\n",
       "        vertical-align: middle;\n",
       "    }\n",
       "\n",
       "    .dataframe tbody tr th {\n",
       "        vertical-align: top;\n",
       "    }\n",
       "\n",
       "    .dataframe thead th {\n",
       "        text-align: right;\n",
       "    }\n",
       "</style>\n",
       "<table border=\"1\" class=\"dataframe\">\n",
       "  <thead>\n",
       "    <tr style=\"text-align: right;\">\n",
       "      <th></th>\n",
       "      <th>stock</th>\n",
       "      <th>term</th>\n",
       "      <th>algorithm</th>\n",
       "      <th>rmse</th>\n",
       "      <th>rmse_norm</th>\n",
       "      <th>epoch</th>\n",
       "      <th>unit</th>\n",
       "      <th>optimizer</th>\n",
       "      <th>batch_size</th>\n",
       "    </tr>\n",
       "  </thead>\n",
       "  <tbody>\n",
       "    <tr>\n",
       "      <th>0</th>\n",
       "      <td>ASII</td>\n",
       "      <td>long</td>\n",
       "      <td>LSTM</td>\n",
       "      <td>183.016672</td>\n",
       "      <td>0.072196</td>\n",
       "      <td>50</td>\n",
       "      <td>50</td>\n",
       "      <td>rmsprop</td>\n",
       "      <td>32</td>\n",
       "    </tr>\n",
       "    <tr>\n",
       "      <th>1</th>\n",
       "      <td>ASII</td>\n",
       "      <td>long</td>\n",
       "      <td>GRU</td>\n",
       "      <td>172.779083</td>\n",
       "      <td>0.068157</td>\n",
       "      <td>50</td>\n",
       "      <td>50</td>\n",
       "      <td>rmsprop</td>\n",
       "      <td>32</td>\n",
       "    </tr>\n",
       "    <tr>\n",
       "      <th>2</th>\n",
       "      <td>ASII</td>\n",
       "      <td>long</td>\n",
       "      <td>RNN</td>\n",
       "      <td>114.783293</td>\n",
       "      <td>0.045279</td>\n",
       "      <td>50</td>\n",
       "      <td>50</td>\n",
       "      <td>rmsprop</td>\n",
       "      <td>32</td>\n",
       "    </tr>\n",
       "    <tr>\n",
       "      <th>18</th>\n",
       "      <td>ASII</td>\n",
       "      <td>long</td>\n",
       "      <td>LSTM</td>\n",
       "      <td>174.668844</td>\n",
       "      <td>0.068903</td>\n",
       "      <td>50</td>\n",
       "      <td>50</td>\n",
       "      <td>adam</td>\n",
       "      <td>32</td>\n",
       "    </tr>\n",
       "    <tr>\n",
       "      <th>19</th>\n",
       "      <td>ASII</td>\n",
       "      <td>long</td>\n",
       "      <td>GRU</td>\n",
       "      <td>90.945713</td>\n",
       "      <td>0.035876</td>\n",
       "      <td>50</td>\n",
       "      <td>50</td>\n",
       "      <td>adam</td>\n",
       "      <td>32</td>\n",
       "    </tr>\n",
       "  </tbody>\n",
       "</table>\n",
       "</div>"
      ],
      "text/plain": [
       "   stock  term algorithm        rmse  rmse_norm  epoch  unit optimizer  \\\n",
       "0   ASII  long      LSTM  183.016672   0.072196     50    50   rmsprop   \n",
       "1   ASII  long       GRU  172.779083   0.068157     50    50   rmsprop   \n",
       "2   ASII  long       RNN  114.783293   0.045279     50    50   rmsprop   \n",
       "18  ASII  long      LSTM  174.668844   0.068903     50    50      adam   \n",
       "19  ASII  long       GRU   90.945713   0.035876     50    50      adam   \n",
       "\n",
       "    batch_size  \n",
       "0           32  \n",
       "1           32  \n",
       "2           32  \n",
       "18          32  \n",
       "19          32  "
      ]
     },
     "execution_count": 15,
     "metadata": {},
     "output_type": "execute_result"
    }
   ],
   "source": [
    "data_ASII = model_long[model_long[\"stock\"] == \"ASII\"]\n",
    "data_ASII.head()"
   ]
  },
  {
   "cell_type": "markdown",
   "metadata": {},
   "source": [
    "#### LSTM"
   ]
  },
  {
   "cell_type": "markdown",
   "metadata": {},
   "source": [
    "#### GRU"
   ]
  },
  {
   "cell_type": "markdown",
   "metadata": {},
   "source": [
    "#### RNN"
   ]
  },
  {
   "cell_type": "markdown",
   "metadata": {},
   "source": [
    "#### Best Model"
   ]
  },
  {
   "cell_type": "markdown",
   "metadata": {},
   "source": [
    "### AMRT"
   ]
  },
  {
   "cell_type": "code",
   "execution_count": 16,
   "metadata": {},
   "outputs": [
    {
     "data": {
      "text/html": [
       "<div>\n",
       "<style scoped>\n",
       "    .dataframe tbody tr th:only-of-type {\n",
       "        vertical-align: middle;\n",
       "    }\n",
       "\n",
       "    .dataframe tbody tr th {\n",
       "        vertical-align: top;\n",
       "    }\n",
       "\n",
       "    .dataframe thead th {\n",
       "        text-align: right;\n",
       "    }\n",
       "</style>\n",
       "<table border=\"1\" class=\"dataframe\">\n",
       "  <thead>\n",
       "    <tr style=\"text-align: right;\">\n",
       "      <th></th>\n",
       "      <th>stock</th>\n",
       "      <th>term</th>\n",
       "      <th>algorithm</th>\n",
       "      <th>rmse</th>\n",
       "      <th>rmse_norm</th>\n",
       "      <th>epoch</th>\n",
       "      <th>unit</th>\n",
       "      <th>optimizer</th>\n",
       "      <th>batch_size</th>\n",
       "    </tr>\n",
       "  </thead>\n",
       "  <tbody>\n",
       "    <tr>\n",
       "      <th>3</th>\n",
       "      <td>AMRT</td>\n",
       "      <td>long</td>\n",
       "      <td>LSTM</td>\n",
       "      <td>85.819877</td>\n",
       "      <td>0.161924</td>\n",
       "      <td>50</td>\n",
       "      <td>50</td>\n",
       "      <td>rmsprop</td>\n",
       "      <td>32</td>\n",
       "    </tr>\n",
       "    <tr>\n",
       "      <th>4</th>\n",
       "      <td>AMRT</td>\n",
       "      <td>long</td>\n",
       "      <td>GRU</td>\n",
       "      <td>378.519532</td>\n",
       "      <td>0.424805</td>\n",
       "      <td>50</td>\n",
       "      <td>50</td>\n",
       "      <td>rmsprop</td>\n",
       "      <td>32</td>\n",
       "    </tr>\n",
       "    <tr>\n",
       "      <th>5</th>\n",
       "      <td>AMRT</td>\n",
       "      <td>long</td>\n",
       "      <td>RNN</td>\n",
       "      <td>61.072109</td>\n",
       "      <td>0.115230</td>\n",
       "      <td>50</td>\n",
       "      <td>50</td>\n",
       "      <td>rmsprop</td>\n",
       "      <td>32</td>\n",
       "    </tr>\n",
       "    <tr>\n",
       "      <th>21</th>\n",
       "      <td>AMRT</td>\n",
       "      <td>long</td>\n",
       "      <td>LSTM</td>\n",
       "      <td>89.416180</td>\n",
       "      <td>0.168710</td>\n",
       "      <td>50</td>\n",
       "      <td>50</td>\n",
       "      <td>adam</td>\n",
       "      <td>32</td>\n",
       "    </tr>\n",
       "    <tr>\n",
       "      <th>22</th>\n",
       "      <td>AMRT</td>\n",
       "      <td>long</td>\n",
       "      <td>GRU</td>\n",
       "      <td>85.725099</td>\n",
       "      <td>0.161745</td>\n",
       "      <td>50</td>\n",
       "      <td>50</td>\n",
       "      <td>adam</td>\n",
       "      <td>32</td>\n",
       "    </tr>\n",
       "  </tbody>\n",
       "</table>\n",
       "</div>"
      ],
      "text/plain": [
       "   stock  term algorithm        rmse  rmse_norm  epoch  unit optimizer  \\\n",
       "3   AMRT  long      LSTM   85.819877   0.161924     50    50   rmsprop   \n",
       "4   AMRT  long       GRU  378.519532   0.424805     50    50   rmsprop   \n",
       "5   AMRT  long       RNN   61.072109   0.115230     50    50   rmsprop   \n",
       "21  AMRT  long      LSTM   89.416180   0.168710     50    50      adam   \n",
       "22  AMRT  long       GRU   85.725099   0.161745     50    50      adam   \n",
       "\n",
       "    batch_size  \n",
       "3           32  \n",
       "4           32  \n",
       "5           32  \n",
       "21          32  \n",
       "22          32  "
      ]
     },
     "execution_count": 16,
     "metadata": {},
     "output_type": "execute_result"
    }
   ],
   "source": [
    "data_AMRT = model_long[model_long[\"stock\"] == \"AMRT\"]\n",
    "data_AMRT.head()"
   ]
  },
  {
   "cell_type": "markdown",
   "metadata": {},
   "source": [
    "#### LSTM"
   ]
  },
  {
   "cell_type": "markdown",
   "metadata": {},
   "source": [
    "#### GRU"
   ]
  },
  {
   "cell_type": "markdown",
   "metadata": {},
   "source": [
    "#### RNN"
   ]
  },
  {
   "cell_type": "markdown",
   "metadata": {},
   "source": [
    "#### Best Model"
   ]
  },
  {
   "cell_type": "markdown",
   "metadata": {},
   "source": [
    "### ADRO"
   ]
  },
  {
   "cell_type": "code",
   "execution_count": 17,
   "metadata": {},
   "outputs": [
    {
     "data": {
      "text/html": [
       "<div>\n",
       "<style scoped>\n",
       "    .dataframe tbody tr th:only-of-type {\n",
       "        vertical-align: middle;\n",
       "    }\n",
       "\n",
       "    .dataframe tbody tr th {\n",
       "        vertical-align: top;\n",
       "    }\n",
       "\n",
       "    .dataframe thead th {\n",
       "        text-align: right;\n",
       "    }\n",
       "</style>\n",
       "<table border=\"1\" class=\"dataframe\">\n",
       "  <thead>\n",
       "    <tr style=\"text-align: right;\">\n",
       "      <th></th>\n",
       "      <th>stock</th>\n",
       "      <th>term</th>\n",
       "      <th>algorithm</th>\n",
       "      <th>rmse</th>\n",
       "      <th>rmse_norm</th>\n",
       "      <th>epoch</th>\n",
       "      <th>unit</th>\n",
       "      <th>optimizer</th>\n",
       "      <th>batch_size</th>\n",
       "    </tr>\n",
       "  </thead>\n",
       "  <tbody>\n",
       "    <tr>\n",
       "      <th>6</th>\n",
       "      <td>ADRO</td>\n",
       "      <td>long</td>\n",
       "      <td>LSTM</td>\n",
       "      <td>142.066104</td>\n",
       "      <td>0.089915</td>\n",
       "      <td>50</td>\n",
       "      <td>50</td>\n",
       "      <td>rmsprop</td>\n",
       "      <td>32</td>\n",
       "    </tr>\n",
       "    <tr>\n",
       "      <th>7</th>\n",
       "      <td>ADRO</td>\n",
       "      <td>long</td>\n",
       "      <td>GRU</td>\n",
       "      <td>186.157352</td>\n",
       "      <td>0.117821</td>\n",
       "      <td>50</td>\n",
       "      <td>50</td>\n",
       "      <td>rmsprop</td>\n",
       "      <td>32</td>\n",
       "    </tr>\n",
       "    <tr>\n",
       "      <th>8</th>\n",
       "      <td>ADRO</td>\n",
       "      <td>long</td>\n",
       "      <td>RNN</td>\n",
       "      <td>161.447083</td>\n",
       "      <td>0.097582</td>\n",
       "      <td>50</td>\n",
       "      <td>50</td>\n",
       "      <td>rmsprop</td>\n",
       "      <td>32</td>\n",
       "    </tr>\n",
       "    <tr>\n",
       "      <th>24</th>\n",
       "      <td>ADRO</td>\n",
       "      <td>long</td>\n",
       "      <td>LSTM</td>\n",
       "      <td>128.380001</td>\n",
       "      <td>0.081253</td>\n",
       "      <td>50</td>\n",
       "      <td>50</td>\n",
       "      <td>adam</td>\n",
       "      <td>32</td>\n",
       "    </tr>\n",
       "    <tr>\n",
       "      <th>25</th>\n",
       "      <td>ADRO</td>\n",
       "      <td>long</td>\n",
       "      <td>GRU</td>\n",
       "      <td>128.533285</td>\n",
       "      <td>0.081350</td>\n",
       "      <td>50</td>\n",
       "      <td>50</td>\n",
       "      <td>adam</td>\n",
       "      <td>32</td>\n",
       "    </tr>\n",
       "  </tbody>\n",
       "</table>\n",
       "</div>"
      ],
      "text/plain": [
       "   stock  term algorithm        rmse  rmse_norm  epoch  unit optimizer  \\\n",
       "6   ADRO  long      LSTM  142.066104   0.089915     50    50   rmsprop   \n",
       "7   ADRO  long       GRU  186.157352   0.117821     50    50   rmsprop   \n",
       "8   ADRO  long       RNN  161.447083   0.097582     50    50   rmsprop   \n",
       "24  ADRO  long      LSTM  128.380001   0.081253     50    50      adam   \n",
       "25  ADRO  long       GRU  128.533285   0.081350     50    50      adam   \n",
       "\n",
       "    batch_size  \n",
       "6           32  \n",
       "7           32  \n",
       "8           32  \n",
       "24          32  \n",
       "25          32  "
      ]
     },
     "execution_count": 17,
     "metadata": {},
     "output_type": "execute_result"
    }
   ],
   "source": [
    "data_ADRO = model_long[model_long[\"stock\"] == \"ADRO\"]\n",
    "data_ADRO.head()"
   ]
  },
  {
   "cell_type": "markdown",
   "metadata": {},
   "source": [
    "#### LSTM"
   ]
  },
  {
   "cell_type": "markdown",
   "metadata": {},
   "source": [
    "#### GRU"
   ]
  },
  {
   "cell_type": "markdown",
   "metadata": {},
   "source": [
    "#### RNN"
   ]
  },
  {
   "cell_type": "markdown",
   "metadata": {},
   "source": [
    "#### Best Model"
   ]
  },
  {
   "cell_type": "markdown",
   "metadata": {},
   "source": [
    "### MAPI"
   ]
  },
  {
   "cell_type": "code",
   "execution_count": 18,
   "metadata": {},
   "outputs": [
    {
     "data": {
      "text/html": [
       "<div>\n",
       "<style scoped>\n",
       "    .dataframe tbody tr th:only-of-type {\n",
       "        vertical-align: middle;\n",
       "    }\n",
       "\n",
       "    .dataframe tbody tr th {\n",
       "        vertical-align: top;\n",
       "    }\n",
       "\n",
       "    .dataframe thead th {\n",
       "        text-align: right;\n",
       "    }\n",
       "</style>\n",
       "<table border=\"1\" class=\"dataframe\">\n",
       "  <thead>\n",
       "    <tr style=\"text-align: right;\">\n",
       "      <th></th>\n",
       "      <th>stock</th>\n",
       "      <th>term</th>\n",
       "      <th>algorithm</th>\n",
       "      <th>rmse</th>\n",
       "      <th>rmse_norm</th>\n",
       "      <th>epoch</th>\n",
       "      <th>unit</th>\n",
       "      <th>optimizer</th>\n",
       "      <th>batch_size</th>\n",
       "    </tr>\n",
       "  </thead>\n",
       "  <tbody>\n",
       "    <tr>\n",
       "      <th>9</th>\n",
       "      <td>MAPI</td>\n",
       "      <td>long</td>\n",
       "      <td>LSTM</td>\n",
       "      <td>91.273075</td>\n",
       "      <td>0.113383</td>\n",
       "      <td>50</td>\n",
       "      <td>50</td>\n",
       "      <td>rmsprop</td>\n",
       "      <td>32</td>\n",
       "    </tr>\n",
       "    <tr>\n",
       "      <th>10</th>\n",
       "      <td>MAPI</td>\n",
       "      <td>long</td>\n",
       "      <td>GRU</td>\n",
       "      <td>128.009271</td>\n",
       "      <td>0.147683</td>\n",
       "      <td>50</td>\n",
       "      <td>50</td>\n",
       "      <td>rmsprop</td>\n",
       "      <td>32</td>\n",
       "    </tr>\n",
       "    <tr>\n",
       "      <th>11</th>\n",
       "      <td>MAPI</td>\n",
       "      <td>long</td>\n",
       "      <td>RNN</td>\n",
       "      <td>94.488944</td>\n",
       "      <td>0.105479</td>\n",
       "      <td>50</td>\n",
       "      <td>50</td>\n",
       "      <td>rmsprop</td>\n",
       "      <td>32</td>\n",
       "    </tr>\n",
       "    <tr>\n",
       "      <th>27</th>\n",
       "      <td>MAPI</td>\n",
       "      <td>long</td>\n",
       "      <td>LSTM</td>\n",
       "      <td>90.775873</td>\n",
       "      <td>0.112765</td>\n",
       "      <td>50</td>\n",
       "      <td>50</td>\n",
       "      <td>adam</td>\n",
       "      <td>32</td>\n",
       "    </tr>\n",
       "    <tr>\n",
       "      <th>28</th>\n",
       "      <td>MAPI</td>\n",
       "      <td>long</td>\n",
       "      <td>GRU</td>\n",
       "      <td>100.168446</td>\n",
       "      <td>0.118075</td>\n",
       "      <td>50</td>\n",
       "      <td>50</td>\n",
       "      <td>adam</td>\n",
       "      <td>32</td>\n",
       "    </tr>\n",
       "  </tbody>\n",
       "</table>\n",
       "</div>"
      ],
      "text/plain": [
       "   stock  term algorithm        rmse  rmse_norm  epoch  unit optimizer  \\\n",
       "9   MAPI  long      LSTM   91.273075   0.113383     50    50   rmsprop   \n",
       "10  MAPI  long       GRU  128.009271   0.147683     50    50   rmsprop   \n",
       "11  MAPI  long       RNN   94.488944   0.105479     50    50   rmsprop   \n",
       "27  MAPI  long      LSTM   90.775873   0.112765     50    50      adam   \n",
       "28  MAPI  long       GRU  100.168446   0.118075     50    50      adam   \n",
       "\n",
       "    batch_size  \n",
       "9           32  \n",
       "10          32  \n",
       "11          32  \n",
       "27          32  \n",
       "28          32  "
      ]
     },
     "execution_count": 18,
     "metadata": {},
     "output_type": "execute_result"
    }
   ],
   "source": [
    "data_MAPI = model_long[model_long[\"stock\"] == \"MAPI\"]\n",
    "data_MAPI.head()"
   ]
  },
  {
   "cell_type": "markdown",
   "metadata": {},
   "source": [
    "#### LSTM"
   ]
  },
  {
   "cell_type": "markdown",
   "metadata": {},
   "source": [
    "#### GRU"
   ]
  },
  {
   "cell_type": "markdown",
   "metadata": {},
   "source": [
    "#### RNN"
   ]
  },
  {
   "cell_type": "markdown",
   "metadata": {},
   "source": [
    "#### Best Model"
   ]
  },
  {
   "cell_type": "markdown",
   "metadata": {},
   "source": [
    "### KLBF"
   ]
  },
  {
   "cell_type": "code",
   "execution_count": null,
   "metadata": {},
   "outputs": [],
   "source": [
    "data_AMRT = model_long[model_long[\"stock\"] == \"AMRT\"]\n",
    "data_AMRT.head()"
   ]
  },
  {
   "cell_type": "markdown",
   "metadata": {},
   "source": [
    "#### LSTM"
   ]
  },
  {
   "cell_type": "markdown",
   "metadata": {},
   "source": [
    "#### GRU"
   ]
  },
  {
   "cell_type": "markdown",
   "metadata": {},
   "source": [
    "#### RNN"
   ]
  },
  {
   "cell_type": "markdown",
   "metadata": {},
   "source": [
    "#### Best Model"
   ]
  },
  {
   "cell_type": "markdown",
   "metadata": {},
   "source": [
    "### TLKM"
   ]
  },
  {
   "cell_type": "markdown",
   "metadata": {},
   "source": [
    "## Medium Term\n",
    "Data used is:\n",
    "- Train : 2023 (1 year)\n",
    "- Test : January - July 2024 (7 month)\n"
   ]
  },
  {
   "cell_type": "code",
   "execution_count": 12,
   "metadata": {},
   "outputs": [
    {
     "data": {
      "text/html": [
       "<div>\n",
       "<style scoped>\n",
       "    .dataframe tbody tr th:only-of-type {\n",
       "        vertical-align: middle;\n",
       "    }\n",
       "\n",
       "    .dataframe tbody tr th {\n",
       "        vertical-align: top;\n",
       "    }\n",
       "\n",
       "    .dataframe thead th {\n",
       "        text-align: right;\n",
       "    }\n",
       "</style>\n",
       "<table border=\"1\" class=\"dataframe\">\n",
       "  <thead>\n",
       "    <tr style=\"text-align: right;\">\n",
       "      <th></th>\n",
       "      <th>stock</th>\n",
       "      <th>term</th>\n",
       "      <th>algorithm</th>\n",
       "      <th>rmse</th>\n",
       "      <th>rmse_norm</th>\n",
       "      <th>epoch</th>\n",
       "      <th>unit</th>\n",
       "      <th>optimizer</th>\n",
       "      <th>batch_size</th>\n",
       "    </tr>\n",
       "  </thead>\n",
       "  <tbody>\n",
       "    <tr>\n",
       "      <th>0</th>\n",
       "      <td>ASII</td>\n",
       "      <td>medium</td>\n",
       "      <td>LSTM</td>\n",
       "      <td>260.137083</td>\n",
       "      <td>0.194859</td>\n",
       "      <td>50</td>\n",
       "      <td>50</td>\n",
       "      <td>rmsprop</td>\n",
       "      <td>32</td>\n",
       "    </tr>\n",
       "    <tr>\n",
       "      <th>1</th>\n",
       "      <td>ASII</td>\n",
       "      <td>medium</td>\n",
       "      <td>GRU</td>\n",
       "      <td>174.401087</td>\n",
       "      <td>0.121864</td>\n",
       "      <td>50</td>\n",
       "      <td>50</td>\n",
       "      <td>rmsprop</td>\n",
       "      <td>32</td>\n",
       "    </tr>\n",
       "    <tr>\n",
       "      <th>2</th>\n",
       "      <td>ASII</td>\n",
       "      <td>medium</td>\n",
       "      <td>RNN</td>\n",
       "      <td>337.119504</td>\n",
       "      <td>0.180535</td>\n",
       "      <td>50</td>\n",
       "      <td>50</td>\n",
       "      <td>rmsprop</td>\n",
       "      <td>32</td>\n",
       "    </tr>\n",
       "    <tr>\n",
       "      <th>3</th>\n",
       "      <td>AMRT</td>\n",
       "      <td>medium</td>\n",
       "      <td>LSTM</td>\n",
       "      <td>72.171872</td>\n",
       "      <td>0.176029</td>\n",
       "      <td>50</td>\n",
       "      <td>50</td>\n",
       "      <td>rmsprop</td>\n",
       "      <td>32</td>\n",
       "    </tr>\n",
       "    <tr>\n",
       "      <th>4</th>\n",
       "      <td>AMRT</td>\n",
       "      <td>medium</td>\n",
       "      <td>GRU</td>\n",
       "      <td>67.187506</td>\n",
       "      <td>0.153464</td>\n",
       "      <td>50</td>\n",
       "      <td>50</td>\n",
       "      <td>rmsprop</td>\n",
       "      <td>32</td>\n",
       "    </tr>\n",
       "  </tbody>\n",
       "</table>\n",
       "</div>"
      ],
      "text/plain": [
       "  stock    term algorithm        rmse  rmse_norm  epoch  unit optimizer  \\\n",
       "0  ASII  medium      LSTM  260.137083   0.194859     50    50   rmsprop   \n",
       "1  ASII  medium       GRU  174.401087   0.121864     50    50   rmsprop   \n",
       "2  ASII  medium       RNN  337.119504   0.180535     50    50   rmsprop   \n",
       "3  AMRT  medium      LSTM   72.171872   0.176029     50    50   rmsprop   \n",
       "4  AMRT  medium       GRU   67.187506   0.153464     50    50   rmsprop   \n",
       "\n",
       "   batch_size  \n",
       "0          32  \n",
       "1          32  \n",
       "2          32  \n",
       "3          32  \n",
       "4          32  "
      ]
     },
     "execution_count": 12,
     "metadata": {},
     "output_type": "execute_result"
    }
   ],
   "source": [
    "model_medium = pd.read_csv(\"../result_paper_tuning/result_medium_tuning.csv\")\n",
    "model_medium.head()"
   ]
  },
  {
   "cell_type": "markdown",
   "metadata": {},
   "source": [
    "### ASII"
   ]
  },
  {
   "cell_type": "markdown",
   "metadata": {},
   "source": [
    "#### LSTM"
   ]
  },
  {
   "cell_type": "markdown",
   "metadata": {},
   "source": [
    "#### GRU"
   ]
  },
  {
   "cell_type": "markdown",
   "metadata": {},
   "source": [
    "#### RNN"
   ]
  },
  {
   "cell_type": "markdown",
   "metadata": {},
   "source": [
    "#### Best Model"
   ]
  },
  {
   "cell_type": "markdown",
   "metadata": {},
   "source": [
    "### AMRT"
   ]
  },
  {
   "cell_type": "markdown",
   "metadata": {},
   "source": [
    "#### LSTM"
   ]
  },
  {
   "cell_type": "markdown",
   "metadata": {},
   "source": [
    "#### GRU"
   ]
  },
  {
   "cell_type": "markdown",
   "metadata": {},
   "source": [
    "#### RNN"
   ]
  },
  {
   "cell_type": "markdown",
   "metadata": {},
   "source": [
    "#### Best Model"
   ]
  },
  {
   "cell_type": "markdown",
   "metadata": {},
   "source": [
    "### ADRO"
   ]
  },
  {
   "cell_type": "markdown",
   "metadata": {},
   "source": [
    "#### LSTM"
   ]
  },
  {
   "cell_type": "markdown",
   "metadata": {},
   "source": [
    "#### GRU"
   ]
  },
  {
   "cell_type": "markdown",
   "metadata": {},
   "source": [
    "#### RNN"
   ]
  },
  {
   "cell_type": "markdown",
   "metadata": {},
   "source": [
    "#### Best Model"
   ]
  },
  {
   "cell_type": "markdown",
   "metadata": {},
   "source": [
    "### MAPI"
   ]
  },
  {
   "cell_type": "markdown",
   "metadata": {},
   "source": [
    "#### LSTM"
   ]
  },
  {
   "cell_type": "markdown",
   "metadata": {},
   "source": [
    "#### GRU"
   ]
  },
  {
   "cell_type": "markdown",
   "metadata": {},
   "source": [
    "#### RNN"
   ]
  },
  {
   "cell_type": "markdown",
   "metadata": {},
   "source": [
    "#### Best Model"
   ]
  },
  {
   "cell_type": "markdown",
   "metadata": {},
   "source": [
    "### KLBF"
   ]
  },
  {
   "cell_type": "markdown",
   "metadata": {},
   "source": [
    "#### LSTM"
   ]
  },
  {
   "cell_type": "markdown",
   "metadata": {},
   "source": [
    "#### GRU"
   ]
  },
  {
   "cell_type": "markdown",
   "metadata": {},
   "source": [
    "#### RNN"
   ]
  },
  {
   "cell_type": "markdown",
   "metadata": {},
   "source": [
    "#### Best Model"
   ]
  },
  {
   "cell_type": "markdown",
   "metadata": {},
   "source": [
    "### TLKM"
   ]
  },
  {
   "cell_type": "markdown",
   "metadata": {},
   "source": [
    "#### LSTM"
   ]
  },
  {
   "cell_type": "markdown",
   "metadata": {},
   "source": [
    "#### GRU"
   ]
  },
  {
   "cell_type": "markdown",
   "metadata": {},
   "source": [
    "#### RNN"
   ]
  },
  {
   "cell_type": "markdown",
   "metadata": {},
   "source": [
    "#### Best Model"
   ]
  },
  {
   "cell_type": "markdown",
   "metadata": {},
   "source": [
    "## Short Term\n",
    "Data used is:\n",
    "- Train : January - September 2023 (9 month)\n",
    "- Test : Oktober - Desember 2023 (3 month)"
   ]
  },
  {
   "cell_type": "code",
   "execution_count": 13,
   "metadata": {},
   "outputs": [
    {
     "data": {
      "text/html": [
       "<div>\n",
       "<style scoped>\n",
       "    .dataframe tbody tr th:only-of-type {\n",
       "        vertical-align: middle;\n",
       "    }\n",
       "\n",
       "    .dataframe tbody tr th {\n",
       "        vertical-align: top;\n",
       "    }\n",
       "\n",
       "    .dataframe thead th {\n",
       "        text-align: right;\n",
       "    }\n",
       "</style>\n",
       "<table border=\"1\" class=\"dataframe\">\n",
       "  <thead>\n",
       "    <tr style=\"text-align: right;\">\n",
       "      <th></th>\n",
       "      <th>stock</th>\n",
       "      <th>term</th>\n",
       "      <th>algorithm</th>\n",
       "      <th>rmse</th>\n",
       "      <th>rmse_norm</th>\n",
       "      <th>epoch</th>\n",
       "      <th>unit</th>\n",
       "      <th>optimizer</th>\n",
       "      <th>batch_sizeASII</th>\n",
       "      <th>short</th>\n",
       "      <th>LSTM</th>\n",
       "      <th>163.22273232263802</th>\n",
       "      <th>0.19202674390898594</th>\n",
       "      <th>50</th>\n",
       "      <th>50.1</th>\n",
       "      <th>rmsprop</th>\n",
       "      <th>32</th>\n",
       "    </tr>\n",
       "  </thead>\n",
       "  <tbody>\n",
       "    <tr>\n",
       "      <th>0</th>\n",
       "      <td>ASII</td>\n",
       "      <td>short</td>\n",
       "      <td>GRU</td>\n",
       "      <td>105.502766</td>\n",
       "      <td>0.124121</td>\n",
       "      <td>50</td>\n",
       "      <td>50</td>\n",
       "      <td>rmsprop</td>\n",
       "      <td>32</td>\n",
       "      <td>NaN</td>\n",
       "      <td>NaN</td>\n",
       "      <td>NaN</td>\n",
       "      <td>NaN</td>\n",
       "      <td>NaN</td>\n",
       "      <td>NaN</td>\n",
       "      <td>NaN</td>\n",
       "      <td>NaN</td>\n",
       "    </tr>\n",
       "    <tr>\n",
       "      <th>1</th>\n",
       "      <td>ASII</td>\n",
       "      <td>short</td>\n",
       "      <td>RNN</td>\n",
       "      <td>198.967726</td>\n",
       "      <td>0.194868</td>\n",
       "      <td>50</td>\n",
       "      <td>50</td>\n",
       "      <td>rmsprop</td>\n",
       "      <td>32</td>\n",
       "      <td>NaN</td>\n",
       "      <td>NaN</td>\n",
       "      <td>NaN</td>\n",
       "      <td>NaN</td>\n",
       "      <td>NaN</td>\n",
       "      <td>NaN</td>\n",
       "      <td>NaN</td>\n",
       "      <td>NaN</td>\n",
       "    </tr>\n",
       "    <tr>\n",
       "      <th>2</th>\n",
       "      <td>AMRT</td>\n",
       "      <td>short</td>\n",
       "      <td>LSTM</td>\n",
       "      <td>75.524925</td>\n",
       "      <td>0.187020</td>\n",
       "      <td>50</td>\n",
       "      <td>50</td>\n",
       "      <td>rmsprop</td>\n",
       "      <td>32</td>\n",
       "      <td>NaN</td>\n",
       "      <td>NaN</td>\n",
       "      <td>NaN</td>\n",
       "      <td>NaN</td>\n",
       "      <td>NaN</td>\n",
       "      <td>NaN</td>\n",
       "      <td>NaN</td>\n",
       "      <td>NaN</td>\n",
       "    </tr>\n",
       "    <tr>\n",
       "      <th>3</th>\n",
       "      <td>AMRT</td>\n",
       "      <td>short</td>\n",
       "      <td>GRU</td>\n",
       "      <td>55.210275</td>\n",
       "      <td>0.138026</td>\n",
       "      <td>50</td>\n",
       "      <td>50</td>\n",
       "      <td>rmsprop</td>\n",
       "      <td>32</td>\n",
       "      <td>NaN</td>\n",
       "      <td>NaN</td>\n",
       "      <td>NaN</td>\n",
       "      <td>NaN</td>\n",
       "      <td>NaN</td>\n",
       "      <td>NaN</td>\n",
       "      <td>NaN</td>\n",
       "      <td>NaN</td>\n",
       "    </tr>\n",
       "    <tr>\n",
       "      <th>4</th>\n",
       "      <td>AMRT</td>\n",
       "      <td>short</td>\n",
       "      <td>RNN</td>\n",
       "      <td>77.281137</td>\n",
       "      <td>0.183477</td>\n",
       "      <td>50</td>\n",
       "      <td>50</td>\n",
       "      <td>rmsprop</td>\n",
       "      <td>32</td>\n",
       "      <td>NaN</td>\n",
       "      <td>NaN</td>\n",
       "      <td>NaN</td>\n",
       "      <td>NaN</td>\n",
       "      <td>NaN</td>\n",
       "      <td>NaN</td>\n",
       "      <td>NaN</td>\n",
       "      <td>NaN</td>\n",
       "    </tr>\n",
       "  </tbody>\n",
       "</table>\n",
       "</div>"
      ],
      "text/plain": [
       "  stock   term algorithm        rmse  rmse_norm  epoch  unit optimizer  \\\n",
       "0  ASII  short       GRU  105.502766   0.124121     50    50   rmsprop   \n",
       "1  ASII  short       RNN  198.967726   0.194868     50    50   rmsprop   \n",
       "2  AMRT  short      LSTM   75.524925   0.187020     50    50   rmsprop   \n",
       "3  AMRT  short       GRU   55.210275   0.138026     50    50   rmsprop   \n",
       "4  AMRT  short       RNN   77.281137   0.183477     50    50   rmsprop   \n",
       "\n",
       "   batch_sizeASII  short  LSTM  163.22273232263802  0.19202674390898594  50  \\\n",
       "0              32    NaN   NaN                 NaN                  NaN NaN   \n",
       "1              32    NaN   NaN                 NaN                  NaN NaN   \n",
       "2              32    NaN   NaN                 NaN                  NaN NaN   \n",
       "3              32    NaN   NaN                 NaN                  NaN NaN   \n",
       "4              32    NaN   NaN                 NaN                  NaN NaN   \n",
       "\n",
       "   50.1  rmsprop  32  \n",
       "0   NaN      NaN NaN  \n",
       "1   NaN      NaN NaN  \n",
       "2   NaN      NaN NaN  \n",
       "3   NaN      NaN NaN  \n",
       "4   NaN      NaN NaN  "
      ]
     },
     "execution_count": 13,
     "metadata": {},
     "output_type": "execute_result"
    }
   ],
   "source": [
    "model_short = pd.read_csv(\"../result_paper_tuning/result_short_tuning.csv\")\n",
    "model_short.head()"
   ]
  },
  {
   "cell_type": "markdown",
   "metadata": {},
   "source": [
    "### ASII"
   ]
  },
  {
   "cell_type": "markdown",
   "metadata": {},
   "source": [
    "#### LSTM"
   ]
  },
  {
   "cell_type": "markdown",
   "metadata": {},
   "source": [
    "#### GRU"
   ]
  },
  {
   "cell_type": "markdown",
   "metadata": {},
   "source": [
    "#### RNN"
   ]
  },
  {
   "cell_type": "markdown",
   "metadata": {},
   "source": [
    "#### Best Model"
   ]
  },
  {
   "cell_type": "markdown",
   "metadata": {},
   "source": [
    "### AMRT"
   ]
  },
  {
   "cell_type": "markdown",
   "metadata": {},
   "source": [
    "#### LSTM"
   ]
  },
  {
   "cell_type": "markdown",
   "metadata": {},
   "source": [
    "#### GRU"
   ]
  },
  {
   "cell_type": "markdown",
   "metadata": {},
   "source": [
    "#### RNN"
   ]
  },
  {
   "cell_type": "markdown",
   "metadata": {},
   "source": [
    "#### Best Model"
   ]
  },
  {
   "cell_type": "markdown",
   "metadata": {},
   "source": [
    "### ADRO"
   ]
  },
  {
   "cell_type": "markdown",
   "metadata": {},
   "source": [
    "#### LSTM"
   ]
  },
  {
   "cell_type": "markdown",
   "metadata": {},
   "source": [
    "#### GRU"
   ]
  },
  {
   "cell_type": "markdown",
   "metadata": {},
   "source": [
    "#### RNN"
   ]
  },
  {
   "cell_type": "markdown",
   "metadata": {},
   "source": [
    "#### Best Model"
   ]
  },
  {
   "cell_type": "markdown",
   "metadata": {},
   "source": [
    "### MAPI"
   ]
  },
  {
   "cell_type": "markdown",
   "metadata": {},
   "source": [
    "#### LSTM"
   ]
  },
  {
   "cell_type": "markdown",
   "metadata": {},
   "source": [
    "#### GRU"
   ]
  },
  {
   "cell_type": "markdown",
   "metadata": {},
   "source": [
    "#### RNN"
   ]
  },
  {
   "cell_type": "markdown",
   "metadata": {},
   "source": [
    "#### Best Model"
   ]
  },
  {
   "cell_type": "markdown",
   "metadata": {},
   "source": [
    "### KLBF"
   ]
  },
  {
   "cell_type": "markdown",
   "metadata": {},
   "source": [
    "#### LSTM"
   ]
  },
  {
   "cell_type": "markdown",
   "metadata": {},
   "source": [
    "#### GRU"
   ]
  },
  {
   "cell_type": "markdown",
   "metadata": {},
   "source": [
    "#### RNN\n"
   ]
  },
  {
   "cell_type": "markdown",
   "metadata": {},
   "source": [
    "#### Best Model"
   ]
  },
  {
   "cell_type": "markdown",
   "metadata": {},
   "source": [
    "### TLKM"
   ]
  },
  {
   "cell_type": "markdown",
   "metadata": {},
   "source": [
    "#### LSTM"
   ]
  },
  {
   "cell_type": "markdown",
   "metadata": {},
   "source": [
    "#### GRU"
   ]
  },
  {
   "cell_type": "markdown",
   "metadata": {},
   "source": [
    "#### RNN"
   ]
  },
  {
   "cell_type": "markdown",
   "metadata": {},
   "source": [
    "#### Best Model"
   ]
  },
  {
   "cell_type": "markdown",
   "metadata": {},
   "source": []
  }
 ],
 "metadata": {
  "kernelspec": {
   "display_name": "Python 3",
   "language": "python",
   "name": "python3"
  },
  "language_info": {
   "codemirror_mode": {
    "name": "ipython",
    "version": 3
   },
   "file_extension": ".py",
   "mimetype": "text/x-python",
   "name": "python",
   "nbconvert_exporter": "python",
   "pygments_lexer": "ipython3",
   "version": "3.11.4"
  }
 },
 "nbformat": 4,
 "nbformat_minor": 2
}
